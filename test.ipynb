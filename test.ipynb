{
  "nbformat": 4,
  "nbformat_minor": 0,
  "metadata": {
    "colab": {
      "provenance": []
    },
    "kernelspec": {
      "name": "python3",
      "display_name": "Python 3"
    },
    "language_info": {
      "name": "python"
    }
  },
  "cells": [
    {
      "cell_type": "markdown",
      "source": [
        "# Init\n",
        "\n",
        "> Where you clone the repo and install all the dependencies"
      ],
      "metadata": {
        "id": "dRd5emi6k5Et"
      }
    },
    {
      "cell_type": "code",
      "execution_count": null,
      "metadata": {
        "id": "-ymAqqRdQAjG"
      },
      "outputs": [],
      "source": [
        "# where to get the repo\n",
        "!git clone https://github.com/defectedunit/seismic2midi.git"
      ]
    },
    {
      "cell_type": "code",
      "source": [
        "\"\"\"\n",
        "Install the package\n",
        "\"\"\"\n",
        "%cd seismic2midi\n",
        "!pip install -e .\n",
        "%cd .."
      ],
      "metadata": {
        "collapsed": true,
        "id": "ZWHuBG4bQFhq"
      },
      "execution_count": null,
      "outputs": []
    },
    {
      "cell_type": "markdown",
      "source": [
        "# Main"
      ],
      "metadata": {
        "id": "2nAbsFqdk-OR"
      }
    },
    {
      "cell_type": "code",
      "source": [
        "from seismic2midi.seismic2midi import get_midi, get_event\n",
        "from seismic2midi.seismic2midi.base import seismic2midi\n",
        "\n",
        "\"\"\"\n",
        "A list of eventid you can try out :\n",
        "\n",
        "# eventid=\"11786236\" # 2024 能登半島地震\n",
        "# eventid=\"3279407\"  # 2011 311 東日本大震災\n",
        "# eventid=\"11994157\" # 2025 Alaska 7.3\n",
        "# eventid=\"1916079\"  # 2004 Indian Ocean earthquake\n",
        "# eventid=\"2844986\"# 2010 Chile M8.8\n",
        "# eventid=\"10402114\" # 2017 Mexico 8.1\n",
        "\n",
        "\"\"\"\n",
        "\n",
        "\n",
        "\n",
        "\"\"\"Here is the main function, yes it's as simple as it gets :)\n",
        "    First of all, we need an evenid like this :\n",
        "    If you want other eventid, you can run the code above.\n",
        "\n",
        "\"\"\"\n",
        "\n",
        "eventid=\"3279407\"  # 2011 311 東日本大震災\n",
        "\n",
        "\n",
        "epicenter_df, sperical_coordinates_df, midi_data, score, audio = seismic2midi(eventid).build()\n",
        "\n",
        "\n",
        "\"\"\"\n",
        "if you want plots, score and audio you can parse in arguemnets = True\n",
        "if you want to change the fundemental, parse in a string like \"D4\", you can also change the bpm (default 120)\n",
        "\n",
        "Below is an example some of the arguemnts you can parse in :\n",
        "\n",
        "\"\"\"\n",
        "# epicenter_df, sperical_coordinates_df, midi_data, score, audio = seismic2midi(eventid, fft=True,arrival_rayplot=True,score=True, audiofile=True, spectrogram=True, location_plot=True, fundamental=\"E4\").build()"
      ],
      "metadata": {
        "id": "i48bHodpSd5W"
      },
      "execution_count": null,
      "outputs": []
    },
    {
      "cell_type": "markdown",
      "source": [
        " # Advanced\n"
      ],
      "metadata": {
        "id": "YQJAAc9ijr08"
      }
    },
    {
      "cell_type": "code",
      "source": [
        "\"\"\"\n",
        "Run this block to get events > 7.0 magnitude during 2024\n",
        "\"\"\"\n",
        "%%capture\n",
        "\n",
        "!pip install cartopy\n",
        "!pip install obspy\n",
        "\n",
        "\n",
        "import obspy\n",
        "import cartopy.crs as ccrs\n",
        "import pandas as pd\n",
        "from obspy import UTCDateTime\n",
        "from obspy.clients.fdsn import Client\n",
        "client = Client(\"IRIS\")\n",
        "\n",
        "\n",
        "event_list = client.get_events(minmagnitude=7.0, starttime=UTCDateTime(\"2024-01-01\"),endtime=UTCDateTime(\"2025-01-01\"))\n",
        "event_list.plot()"
      ],
      "metadata": {
        "id": "6NKb8uMfj3Gl"
      },
      "execution_count": null,
      "outputs": []
    },
    {
      "cell_type": "code",
      "source": [
        "\"\"\"\n",
        "sesimic2midi() - a package for seismic data to midi and audio conversion (also known as data sonification)\n",
        "=======================================================\n",
        "Simply by providing an eventid of a seismic event, sesimic2midi can spit out visual, midi and audio representations of the event.\n",
        "Data are stored at ./exports/seismic and ./exports/music, with various variables to parse in.\n",
        "\n",
        ".. Note::\n",
        "    To find Earthquake events, you can use the IRIS FDSN client.\n",
        "    See https://docs.obspy.org/packages/autogen/obspy.clients.fdsn.client.Client.html#obspy.clients.fdsn.client.Client.get_events\n",
        "\n",
        "    Or Here for laypeople query: https://earthquake.usgs.gov/earthquakes/browse/significant.php?year=2011\n",
        "\n",
        "    For API, you will have to these install dependencies:\n",
        "    # !pip install cartopy\n",
        "    # !pip install obspy\n",
        "    # import cartopy.crs as ccrs\n",
        "    # import obspy\n",
        "    # from obspy import UTCDateTime\n",
        "\n",
        "    This code will return all the events with a magnitude of 7 or higher.\n",
        "    # event_list = client.get_events(minmagnitude=7.0)\n",
        "      event_list\n",
        "\n",
        "    This code will return all the events with a magnitude of 7 or higher during 2024, and .plot() will visualize their locations on a map with robbinson projection.\n",
        "    # event_list = client.get_events(minmagnitude=7.0, starttime=UTCDateTime(\"2024-01-01\"),endtime=UTCDateTime(\"2025-01-01\"))\n",
        "    # event_list.plot()\n",
        "\n",
        "\n",
        ".. Event and trace variables::\n",
        "\n",
        "    client: default IRIS, for the list of available clients, see https://docs.obspy.org/packages/obspy.clients.fdsn.html\n",
        "    network, station, location, channel: default: 'IU', 'ANMO', '00', 'BHZ' they are for specifying a specific trace's station's channel see https://docs.obspy.org/packages/autogen/obspy.clients.fdsn.client.Client.html#obspy.clients.fdsn.client.Client.get_waveforms\n",
        "    event_summary (bool): retruns a dataframe and stored as ./exports/seismic/event_summary.parquet\n",
        "\n",
        ".. Seismic variables::\n",
        "\n",
        "    model: default TauPyModel(model=\"iasp91\"), see https://docs.obspy.org/packages/obspy.taup.html\n",
        "    location_plot (bool): default False. Retruns a location plot and stored as ./exports/seismic/f'{filename}_location_plot.png'\n",
        "    fft (bool): retruns a time series plot and stored as ./exports/seismic/f'{filename}_fft.png\n",
        "    spectrogram (bool): retruns a spectrogram and stored as ./exports/seismic/f'{filename}_spectrogram.png'\n",
        "    model: default TauPyModel(model=\"iasp91\"), see https://docs.obspy.org/packages/obspy.taup.html\n",
        "\n",
        "    Note on arrvial: Phase arrivals are calculated using the TauPy model, around 20-40 arrivals per event.\n",
        "    arrival_rayplot (bool): default False. Retruns a rayplot and stored as ./exports/seismic/f'{filename}_arrival_rayplot.png'\n",
        "\n",
        ".. Music variables::\n",
        "\n",
        "    fundamental: defualt \"C4\", by specifying the f0 you can shift the note numbers of the event.\n",
        "    tempo_bpm: default 120 Beats Per Minute. See https://en.wikipedia.org/wiki/Beats_per_minute\n",
        "    sperical_coordinates: Retruns a dataframe and stored as ./exports/music/eventid_sperical_coordinates.parquet\n",
        "    midifile (bool): default True. Returns a MIDI file and stored as ./exports/music/f'{filename}_music/.mid'\n",
        "    score (bool): default True. Returns a score and stored as ./exports/music/f'{filename}_score/.png'\n",
        "    audiofile (bool): default False. A preview is provided but you are engouraged to use the midi file in your DAW. Returns a audio file and stored as ./exports/music/f'{filename}_music/.wav'\n",
        "\n",
        ".. filename::\n",
        "\n",
        "    Default filename = f'{eventid}_{network}_{station}_{channel}'. Feel free to modify as you see fit.\n",
        "\n",
        "\n",
        ":copyright:\n",
        "    Jeremy Leung (info.sostenuto@gmail.com, IG, Github: @defectedunit)\n",
        ":license:\n",
        "    GNU Lesser General Public License, Version 3\n",
        "    (https://www.gnu.org/copyleft/lesser.html)\n",
        "\"\"\"\n",
        "\n",
        "\n",
        "\n",
        "\n",
        "if __name__ == '__main__':\n",
        "\n",
        "  \"\"\"\n",
        "  What arguements you can plug in? Uncomment it to check them out.\n",
        "\n",
        "  \"\"\"\n",
        "  # seismic2midi(eventid=eventid,\n",
        "  #             client=client,\n",
        "  #             network=network,\n",
        "  #             station=station,\n",
        "  #             location=location,\n",
        "  #             channel=channel,\n",
        "  #             fft=True,\n",
        "  #             spectrogram=True,\n",
        "  #             model=\"iasp91\",\n",
        "  #             fundamental=\"C4\",\n",
        "  #             arrival_rayplot=True,\n",
        "  #             tempo_bpm=120,\n",
        "  #             filename=filename,\n",
        "  #             score=True,\n",
        "  #             audiofile=True\n",
        "  #             ).build()\n",
        "\n",
        "  \"\"\"\n",
        "  Uncomment the eventid to run the patch, yes it's as elegant as parsing in a eventid to getting midi and audio (sonified seismic data).\n",
        "\n",
        "  \"\"\"\n",
        "\n",
        "\n",
        "# eventid=\"3279407\"  # 2011 311 東日本大震災\n",
        "\n",
        "\n",
        "# epicenter_df, sperical_coordinates_df, midi_data, score, audio = seismic2midi(eventid).build()"
      ],
      "metadata": {
        "id": "H7ufLK65ia1E"
      },
      "execution_count": null,
      "outputs": []
    }
  ]
}